{
 "cells": [
  {
   "cell_type": "markdown",
   "metadata": {},
   "source": [
    "---\n",
    "\n",
    "# (pt-br) Projeto Guiado 2: Explorando postagens no Hacker News \n",
    ">Dataquest - Trilha Analista de Dados em Python - [Link](https://www.dataquest.io/path/data-analyst/)\n",
    "\n",
    "# (us-en) Guided Project 2: Exploring Hacker News Posts\n",
    ">Dataquest - Data Analyst in Python Path - [Link](https://www.dataquest.io/path/data-analyst/)\n",
    "---\n",
    "## Sobre o projeto:\n",
    "\n",
    "Neste projeto, trabalharei com um conjunto de dados de submissões para o site de tecnologia popular Hacker News.\n",
    "O Hacker News é um site iniciado pela incubadora de inicialização Y Combinator, onde as histórias enviadas pelos usuários (conhecidas como \"posts\") são votadas e comentadas, semelhante ao reddit. O Hacker News é extremamente popular nos círculos de tecnologia e startup, e as postagens que chegam ao topo das listagens da Hacker News podem obter centenas de milhares de visitantes como resultado.\n",
    "\n",
    "## Objetivo do projeto:\n",
    "\n",
    "O objetivo é demonstrar através da análise exploratória, a comparação entre dois tipos de postagens que são questionamentos e exibição conhecidos como \"Ask HN\" e \"Show HN\" verificando assim suas nunces.\n",
    "\n",
    "## Abordagem do projeto:\n",
    "\n",
    "**1. Interesses;**\n",
    "\n",
    "Estamos especificamente interessados em publicações cujos títulos começam com Ask HN ou Show HN. Os usuários enviam postagens do Ask HN para fazer uma pergunta específica à comunidade do Hacker News. Abaixo estão alguns exemplos:\n",
    "\n",
    "* Pergunte HN: Como melhorar meu site pessoal?\n",
    "* Pergunte HN: Eu sou o único indignado com o Twitter fechando as contagens de compartilhamento?\n",
    "* Perguntar HN: Aby alterações recentes no CSS que quebrou o celular?\n",
    "\n",
    "Da mesma forma, os usuários enviam postagens do Show HN para mostrar à comunidade do Hacker News um projeto, produto ou apenas algo geralmente interessante. Abaixo estão alguns exemplos:\n",
    "\n",
    "* Show HN: Wio Link Plataforma de Desenvolvimento de Hardware Web of Things baseada em ESP8266 '\n",
    "* Mostre HN: Algo sem sentido que eu fiz\n",
    "* Show HN: Shanhu.io, um playground de programação desenvolvido pela e8vm\n",
    "    \n",
    "**2. Processos de ETL (Extração, Transformação, Carregamento);**\n",
    "\n",
    "   - Conjunto de dados: \"hacker_news.csv\"\n",
    "   - Verificação de valores \"missing\", duplicados e etc.\n",
    "\n",
    "**3. Análise exploratória;**\n",
    "\n",
    "Vamos comparar esses dois tipos de postagens para determinar o seguinte:\n",
    "\n",
    "Ask HN ou Show HN recebem mais comentários, em média? As postagens criadas em determinado horário recebem mais comentários, em média?\n",
    "\n",
    "---\n",
    "## About the project:\n",
    "\n",
    "In this project, I'll work with a data set of submissions to popular technology site Hacker News.\n",
    "Hacker News is a site started by the startup incubator Y Combinator, where user-submitted stories (known as \"posts\") are voted and commented upon, similar to reddit. Hacker News is extremely popular in technology and startup circles, and posts that make it to the top of Hacker News' listings can get hundreds of thousands of visitors as a result.\n",
    "\n",
    "## Project's goal:\n",
    "\n",
    "The objective is to demonstrate through the exploratory analysis, the comparison between two types of postings that are questioning and exhibition known as \"Ask HN\" and \"Show HN\" thus verifying their nunces.\n",
    "\n",
    "## Project Approach:\n",
    "\n",
    "**1. Interests;**\n",
    "\n",
    "We're specifically interested in posts whose titles begin with either Ask HN or Show HN. Users submit Ask HN posts to ask the Hacker News community a specific question. Below are a couple examples:\n",
    "\n",
    "* Ask HN: How to improve my personal website?\n",
    "* Ask HN: Am I the only one outraged by Twitter shutting down share counts?\n",
    "* Ask HN: Aby recent changes to CSS that broke mobile?\n",
    "\n",
    "Likewise, users submit Show HN posts to show the Hacker News community a project, product, or just generally something interesting. Below are a couple of examples:\n",
    "\n",
    "* Show HN: Wio Link  ESP8266 Based Web of Things Hardware Development Platform'\n",
    "* Show HN: Something pointless I made\n",
    "* Show HN: Shanhu.io, a programming playground powered by e8vm\n",
    "\n",
    "**2. Processes of ETL (Extraction, Transformation, Loading);**\n",
    "\n",
    "   - Data set: \"hacker_news.csv\"\n",
    "   - Check missing values, duplicate and etc.\n",
    "\n",
    "**3. Exploratory analysis;**\n",
    "\n",
    "We'll compare these two types of posts to determine the following:\n",
    "\n",
    "Do Ask HN or Show HN receive more comments on average?\n",
    "Do posts created at a certain time receive more comments on average?"
   ]
  },
  {
   "cell_type": "markdown",
   "metadata": {},
   "source": [
    "---\n",
    "### (pt-br) Começando a contar histórias\n",
    "\n",
    "Comece abrindo e explorando o conjunto de dados 'open_dataset()'. Para facilitar, chame a função denominada 'explore_data ()' que pode ser usada repetidamente para imprimir linhas de maneira mais legível.\n",
    "\n",
    "### (en-us) Beginning the storytelling\n",
    "\n",
    "Start by opening and exploring these two data sets 'open_dataset()'. To make it easier, call the function named 'explore_data()' that it can use repeatedly to print rows in a more readable way."
   ]
  },
  {
   "cell_type": "code",
   "execution_count": 1,
   "metadata": {},
   "outputs": [],
   "source": [
    "def open_dataset(file_name):\n",
    "    from csv import reader\n",
    "    opened_file = open(file_name, encoding='utf8')\n",
    "    read_file = reader(opened_file)\n",
    "    data = list(read_file)\n",
    "    return data\n",
    "\n",
    "hn = open_dataset('hacker_news.csv')\n",
    "\n",
    "def explore_data(dataset, start, end, rows_and_columns=False): # Selecione 'True' para imprimir a contagem de linhas e colunas.  Select True to print the count for rows and columns.\n",
    "    dataset_slice = dataset[start:end]    \n",
    "    for row in dataset_slice:\n",
    "        print(row)\n",
    "        print('\\n') \n",
    "    if rows_and_columns:\n",
    "        print('Number of rows:', len(dataset))\n",
    "        print('Number of columns:', len(dataset[0]))"
   ]
  },
  {
   "cell_type": "markdown",
   "metadata": {},
   "source": [
    "(pt-br)\n",
    "\n",
    "Abaixo, explorando o data set utilizando a função 'explore_data()' é obtido a visualização do cabeçalho, os dados e quantidade de linhas e coluna.\n",
    "\n",
    "(en-us)\n",
    "\n",
    "Below, exploring the dataset using the 'explore_data ()' function gets the header, data, and row and column count."
   ]
  },
  {
   "cell_type": "code",
   "execution_count": 2,
   "metadata": {},
   "outputs": [
    {
     "name": "stdout",
     "output_type": "stream",
     "text": [
      "['id', 'title', 'url', 'num_points', 'num_comments', 'author', 'created_at']\n",
      "\n",
      "\n",
      "['12224879', 'Interactive Dynamic Video', 'http://www.interactivedynamicvideo.com/', '386', '52', 'ne0phyte', '8/4/2016 11:52']\n",
      "\n",
      "\n",
      "['10975351', 'How to Use Open Source and Shut the Fuck Up at the Same Time', 'http://hueniverse.com/2016/01/26/how-to-use-open-source-and-shut-the-fuck-up-at-the-same-time/', '39', '10', 'josep2', '1/26/2016 19:30']\n",
      "\n",
      "\n",
      "['11964716', \"Florida DJs May Face Felony for April Fools' Water Joke\", 'http://www.thewire.com/entertainment/2013/04/florida-djs-april-fools-water-joke/63798/', '2', '1', 'vezycash', '6/23/2016 22:20']\n",
      "\n",
      "\n",
      "['11919867', 'Technology ventures: From Idea to Enterprise', 'https://www.amazon.com/Technology-Ventures-Enterprise-Thomas-Byers/dp/0073523429', '3', '1', 'hswarna', '6/17/2016 0:01']\n",
      "\n",
      "\n",
      "Number of rows: 20101\n",
      "Number of columns: 7\n",
      "None\n"
     ]
    }
   ],
   "source": [
    "print(explore_data(hn,0,5,True)) # Somente o cabeçalho e as quatro primeiras linhas de dados.\n",
    "                                 # Only the header and the first four rows of data.\n"
   ]
  },
  {
   "cell_type": "markdown",
   "metadata": {},
   "source": [
    "---\n",
    "### (pt-br) Removendo cabeçalho da Lista de Listas\n",
    "### (us-en) Removing Headers from a List of Lists\n"
   ]
  },
  {
   "cell_type": "code",
   "execution_count": 3,
   "metadata": {},
   "outputs": [
    {
     "name": "stdout",
     "output_type": "stream",
     "text": [
      "['id', 'title', 'url', 'num_points', 'num_comments', 'author', 'created_at']\n",
      "[['12224879', 'Interactive Dynamic Video', 'http://www.interactivedynamicvideo.com/', '386', '52', 'ne0phyte', '8/4/2016 11:52'], ['10975351', 'How to Use Open Source and Shut the Fuck Up at the Same Time', 'http://hueniverse.com/2016/01/26/how-to-use-open-source-and-shut-the-fuck-up-at-the-same-time/', '39', '10', 'josep2', '1/26/2016 19:30'], ['11964716', \"Florida DJs May Face Felony for April Fools' Water Joke\", 'http://www.thewire.com/entertainment/2013/04/florida-djs-april-fools-water-joke/63798/', '2', '1', 'vezycash', '6/23/2016 22:20'], ['11919867', 'Technology ventures: From Idea to Enterprise', 'https://www.amazon.com/Technology-Ventures-Enterprise-Thomas-Byers/dp/0073523429', '3', '1', 'hswarna', '6/17/2016 0:01'], ['10301696', 'Note by Note: The Making of Steinway L1037 (2007)', 'http://www.nytimes.com/2007/11/07/movies/07stein.html?_r=0', '8', '2', 'walterbell', '9/30/2015 4:12']]\n"
     ]
    }
   ],
   "source": [
    "# Removendo o cabeçalho / # Removing headers\n",
    "headers = hn[0]\n",
    "hn = hn[1:]\n",
    "print(headers)\n",
    "print(hn[:5])"
   ]
  },
  {
   "cell_type": "markdown",
   "metadata": {},
   "source": [
    "(pt-br) Como podemos observar acima, para cada postagem temos um número X de comentários. Como estamos preocupados apenas com os títulos dos posts iniciados por \"Ask HN\" ou \"Show HN\", criaremos novas listas de listas contendo apenas os dados desses títulos.\n",
    "\n",
    "(us-en) As we can see above, for each post we have an X number of comments. As we are only concerned with the titles of the posts initiated by \"Ask HN\" or \"Show HN\", we will create new lists of lists containing only the data of these titles.\n",
    "\n"
   ]
  },
  {
   "cell_type": "markdown",
   "metadata": {},
   "source": [
    "---\n",
    "### (pt-br) Separando postagens \"Ask HN\" e \"Show HN\"\n",
    "### (us-en) Separating posts \"Ask HN\" and \"Show HN\""
   ]
  },
  {
   "cell_type": "code",
   "execution_count": 4,
   "metadata": {},
   "outputs": [
    {
     "name": "stdout",
     "output_type": "stream",
     "text": [
      "Ask HN posts: 1744\n",
      "Show HN posts: 1162\n",
      "Other HN posts: 17194\n"
     ]
    }
   ],
   "source": [
    "ask_posts = []\n",
    "show_posts = []\n",
    "other_posts = []\n",
    "\n",
    "for post in hn:\n",
    "    title = post[1]\n",
    "    if title.lower().startswith(\"ask hn\"): #verificando se a postagem em \"minúsuclo (lower)\" e se \"começa com (startswith)\" ask hn\n",
    "        ask_posts.append(post)\n",
    "    elif title.lower().startswith(\"show hn\"): #verificando se a postagem em \"minúsuclo (lower)\" e se \"começa com (startswith)\" show hn\n",
    "        show_posts.append(post)\n",
    "    else:\n",
    "        other_posts.append(post) # postagem restantes armazenando na lista other_posts\n",
    "\n",
    "print(\"Ask HN posts:\",len(ask_posts))\n",
    "print(\"Show HN posts:\",len(show_posts))\n",
    "print(\"Other HN posts:\",len(other_posts))     "
   ]
  },
  {
   "cell_type": "markdown",
   "metadata": {},
   "source": [
    "---\n",
    "### (pt-br) Determinando se ask posts ou show posts recebem mais comentários em média.\n",
    "### (us-en) Determining if ask posts or show posts receive more comments on average."
   ]
  },
  {
   "cell_type": "code",
   "execution_count": 5,
   "metadata": {},
   "outputs": [
    {
     "name": "stdout",
     "output_type": "stream",
     "text": [
      "Média/Average Ask Posts: 14.038417431192661\n",
      "Média/Average Show Posts: 10.31669535283993\n"
     ]
    }
   ],
   "source": [
    "# Média de Ask Posts\n",
    "# Average of Ask Posts\n",
    "\n",
    "total_ask_comments = 0\n",
    "\n",
    "for ask in ask_posts:\n",
    "    num_comments = ask[4]\n",
    "    total_ask_comments += int(num_comments)\n",
    "\n",
    "avg_ask_comments = total_ask_comments / len(ask_posts)\n",
    "print(\"Média/Average Ask Posts:\", avg_ask_comments)\n",
    "\n",
    "#--------------------------------------------------------------------------\n",
    "\n",
    "# Média de Show Posts\n",
    "# Average of Show Posts\n",
    "\n",
    "total_show_comments = 0\n",
    "\n",
    "for show in show_posts:\n",
    "    num_comments = show[4]\n",
    "    total_show_comments += int(num_comments)\n",
    "\n",
    "avg_show_comments = total_show_comments / len(show_posts)\n",
    "print(\"Média/Average Show Posts:\", avg_show_comments)"
   ]
  },
  {
   "cell_type": "markdown",
   "metadata": {},
   "source": [
    "**(pt-br) Show posts ou ask posts recebem mais comentários, em média?**\n",
    "Conforme análise exploratória dos dados, em média as postagens do tipo perguntas faz com que os usuário tenham  mais interação recebendo assim mais comentários no Hacker News. Com esse resultado, a análise será concentrada nesse tipo de postagem.\n",
    "\n",
    "**(us-en) Do show posts or ask posts receive more comments on average?**\n",
    "According to an exploratory analysis of the data, on average the question-type posts make the users have more interaction thus receiving more comments in Hacker News. With this result, the analysis will be concentrated on this type of post."
   ]
  },
  {
   "cell_type": "markdown",
   "metadata": {},
   "source": [
    "---\n",
    "### (pt-br) Verificando ask posts criados em determinado horário\n",
    "Em seguida, será determinado se as postagens solicitadas em determinado horário têm maior probabilidade de atrair comentários. Será utilizado os seguintes passos para realizar esta análise:\n",
    "\n",
    "* Cálculo da quantidade de mensagens solicitadas criadas em cada hora do dia, juntamente com o número de comentários recebidos.\n",
    "* Cálculo do número médio de comentários que as postagens recebem por hora criada.\n",
    "\n",
    "### (us-en) Checking ask posts created at certain time\n",
    "It will then determine whether requested posts at a particular time are more likely to attract comments. The following steps will be used to perform this analysis:\n",
    "\n",
    "* Calculate the amount of requested messages created at each time of day, along with the number of comments received.\n",
    "* Calculate the average number of comments that posts receive per hour you create.\n"
   ]
  },
  {
   "cell_type": "code",
   "execution_count": 6,
   "metadata": {},
   "outputs": [],
   "source": [
    "import datetime as dt # Importando o módulo datetime sob o alias \"dt\" / Importing the datetime module under the alias \"dt\""
   ]
  },
  {
   "cell_type": "code",
   "execution_count": 7,
   "metadata": {},
   "outputs": [
    {
     "data": {
      "text/plain": [
       "{'09': 251,\n",
       " '13': 1253,\n",
       " '10': 793,\n",
       " '14': 1416,\n",
       " '16': 1814,\n",
       " '23': 543,\n",
       " '12': 687,\n",
       " '17': 1146,\n",
       " '15': 4477,\n",
       " '21': 1745,\n",
       " '20': 1722,\n",
       " '02': 1381,\n",
       " '18': 1439,\n",
       " '03': 421,\n",
       " '05': 464,\n",
       " '19': 1188,\n",
       " '01': 683,\n",
       " '22': 479,\n",
       " '08': 492,\n",
       " '04': 337,\n",
       " '00': 447,\n",
       " '06': 397,\n",
       " '07': 267,\n",
       " '11': 641}"
      ]
     },
     "execution_count": 7,
     "metadata": {},
     "output_type": "execute_result"
    }
   ],
   "source": [
    "# Calculando a quantidade de ask posts criadas durante cada hora do dia e o número de comentários recebidos.\n",
    "# Calculating the amount of ask posts created during each hour of day and the number of comments received.\n",
    "\n",
    "result_list = []\n",
    "\n",
    "for post in ask_posts:\n",
    "    result_list.append([post[6], int(post[4])])\n",
    "\n",
    "counts_by_hour = {}\n",
    "comments_by_hour = {}\n",
    "date_format = \"%m/%d/%Y %H:%M\"\n",
    "\n",
    "for row in result_list:\n",
    "    # Usando o método datetime.strptime () para analisar a data e criar um objeto datetime, depois utilizo o método datetime.strftime () para selecionar apenas a hora do objeto datetime.\n",
    "    # Using the datetime.strptime () method to parse the date and create a datetime object, then I use the datetime.strftime () method to select only the time of the datetime object.\n",
    "    hour = dt.datetime.strptime(row[0], date_format).strftime(\"%H\")\n",
    "    \n",
    "    if hour not in counts_by_hour:\n",
    "        counts_by_hour[hour] = 1\n",
    "        comments_by_hour[hour] = row[1]\n",
    "    else:\n",
    "        counts_by_hour[hour] += 1\n",
    "        comments_by_hour[hour] += row[1]\n",
    "comments_by_hour   "
   ]
  },
  {
   "cell_type": "markdown",
   "metadata": {},
   "source": [
    "---\n",
    "### (pt-br) Cálculo da média de comentários por hora\n",
    "Em seguida, será usado os dois dicionários para calcular o número médio de comentários para postagens criadas durante cada hora do dia.\n",
    "### (us-en) Calculation of the average comments by hour\n",
    "The two dictionaries will then be used to calculate the average number of comments for posts created during each hour of the day."
   ]
  },
  {
   "cell_type": "code",
   "execution_count": 8,
   "metadata": {},
   "outputs": [
    {
     "data": {
      "text/plain": [
       "[['09', 5.5777777777777775],\n",
       " ['13', 14.741176470588234],\n",
       " ['10', 13.440677966101696],\n",
       " ['14', 13.233644859813085],\n",
       " ['16', 16.796296296296298],\n",
       " ['23', 7.985294117647059],\n",
       " ['12', 9.41095890410959],\n",
       " ['17', 11.46],\n",
       " ['15', 38.5948275862069],\n",
       " ['21', 16.009174311926607],\n",
       " ['20', 21.525],\n",
       " ['02', 23.810344827586206],\n",
       " ['18', 13.20183486238532],\n",
       " ['03', 7.796296296296297],\n",
       " ['05', 10.08695652173913],\n",
       " ['19', 10.8],\n",
       " ['01', 11.383333333333333],\n",
       " ['22', 6.746478873239437],\n",
       " ['08', 10.25],\n",
       " ['04', 7.170212765957447],\n",
       " ['00', 8.127272727272727],\n",
       " ['06', 9.022727272727273],\n",
       " ['07', 7.852941176470588],\n",
       " ['11', 11.051724137931034]]"
      ]
     },
     "execution_count": 8,
     "metadata": {},
     "output_type": "execute_result"
    }
   ],
   "source": [
    "avg_by_hour = []\n",
    "\n",
    "for comment in comments_by_hour:\n",
    "    avg_by_hour.append([comment, comments_by_hour[comment] / counts_by_hour[comment]])\n",
    "\n",
    "avg_by_hour"
   ]
  },
  {
   "cell_type": "markdown",
   "metadata": {},
   "source": [
    "---\n",
    "### (pt-br) Ordenando a lista de listas da média de comentários por hora\n",
    "Para finalizar, classificando a lista de listas e imprimindo os cinco valores mais altos em um formato mais fácil de ler.\n",
    "### (us-en) Sorting the list of lists of the average comments by hour\n",
    "Finally, sorting the list of lists and printing the five highest values ​​in an easier format to read."
   ]
  },
  {
   "cell_type": "code",
   "execution_count": 9,
   "metadata": {},
   "outputs": [
    {
     "name": "stdout",
     "output_type": "stream",
     "text": [
      "[[5.5777777777777775, '09'], [14.741176470588234, '13'], [13.440677966101696, '10'], [13.233644859813085, '14'], [16.796296296296298, '16'], [7.985294117647059, '23'], [9.41095890410959, '12'], [11.46, '17'], [38.5948275862069, '15'], [16.009174311926607, '21'], [21.525, '20'], [23.810344827586206, '02'], [13.20183486238532, '18'], [7.796296296296297, '03'], [10.08695652173913, '05'], [10.8, '19'], [11.383333333333333, '01'], [6.746478873239437, '22'], [10.25, '08'], [7.170212765957447, '04'], [8.127272727272727, '00'], [9.022727272727273, '06'], [7.852941176470588, '07'], [11.051724137931034, '11']]\n",
      "\n",
      "\n"
     ]
    },
    {
     "data": {
      "text/plain": [
       "[[38.5948275862069, '15'],\n",
       " [23.810344827586206, '02'],\n",
       " [21.525, '20'],\n",
       " [16.796296296296298, '16'],\n",
       " [16.009174311926607, '21'],\n",
       " [14.741176470588234, '13'],\n",
       " [13.440677966101696, '10'],\n",
       " [13.233644859813085, '14'],\n",
       " [13.20183486238532, '18'],\n",
       " [11.46, '17'],\n",
       " [11.383333333333333, '01'],\n",
       " [11.051724137931034, '11'],\n",
       " [10.8, '19'],\n",
       " [10.25, '08'],\n",
       " [10.08695652173913, '05'],\n",
       " [9.41095890410959, '12'],\n",
       " [9.022727272727273, '06'],\n",
       " [8.127272727272727, '00'],\n",
       " [7.985294117647059, '23'],\n",
       " [7.852941176470588, '07'],\n",
       " [7.796296296296297, '03'],\n",
       " [7.170212765957447, '04'],\n",
       " [6.746478873239437, '22'],\n",
       " [5.5777777777777775, '09']]"
      ]
     },
     "execution_count": 9,
     "metadata": {},
     "output_type": "execute_result"
    }
   ],
   "source": [
    "swap_avg_by_hour = []\n",
    "\n",
    "for row in avg_by_hour:\n",
    "    swap_avg_by_hour.append([row[1],row[0]]) #fazendo a troca \"swap\" entre comentário/hora\n",
    "print(swap_avg_by_hour)\n",
    "\n",
    "print('\\n')\n",
    "\n",
    "sorted_swap = sorted(swap_avg_by_hour, reverse=True) #classificando da maior média para a menor.\n",
    "sorted_swap "
   ]
  },
  {
   "cell_type": "code",
   "execution_count": 10,
   "metadata": {},
   "outputs": [
    {
     "name": "stdout",
     "output_type": "stream",
     "text": [
      "Top 5 Horas para Comentários 'Ask HN':\n",
      "Top 5 Hours for 'Ask HN' Comments:\n",
      "15:00: 38.59 Média de cometários por post / average comments per post\n",
      "02:00: 23.81 Média de cometários por post / average comments per post\n",
      "20:00: 21.52 Média de cometários por post / average comments per post\n",
      "16:00: 16.80 Média de cometários por post / average comments per post\n",
      "21:00: 16.01 Média de cometários por post / average comments per post\n"
     ]
    }
   ],
   "source": [
    "print(\"Top 5 Horas para Comentários 'Ask HN':\")\n",
    "print(\"Top 5 Hours for 'Ask HN' Comments:\")\n",
    "for row, hour in sorted_swap[:5]:\n",
    "    print(\"{}: {:.2f} Média de cometários por post / average comments per post\".format(\n",
    "        dt.datetime.strptime(hour,\"%H\").strftime(\"%H:%M\"),row)\n",
    "     )    "
   ]
  },
  {
   "cell_type": "markdown",
   "metadata": {},
   "source": [
    "(pt-br) A hora que recebe mais comentários por postagem em média é 15:00, com uma média de 38,59 comentários por postagem. Há um aumento de 60% no número de comentários entre as horas com o maior e o segundo maior número médio de comentários.\n",
    "De acordo com a documentação do conjunto de dados, o fuso horário utilizado é a Eastern Time nos EUA. Então, nós também podemos escrever 15:00 como 15:00 est. Com relação ao horário de Brasília (Brasil) adiantar em 2 horas, ou seja, é equivalente às 17:00 o período com mais postagens segundo o fuso horário brasileiro.\n",
    "\n",
    "(us-en) The time you receive the most comments per post on average is 3:00 PM, with an average of 38.59 comments per post. There is a 60% increase in the number of comments between the hours with the highest and the second highest average number of comments.\n",
    "According to the dataset documentation, the time zone used is Eastern Time in the USA. So, we can also write 3pm as 3pm EST. With respect to the Brasília time (Brazil) to advance in 2 hours, that is, the period with the most postings according to the Brazilian timezone is equivalent to 17:00."
   ]
  },
  {
   "cell_type": "markdown",
   "metadata": {},
   "source": [
    "---\n",
    "### Conclusão / Fim da História\n",
    "Neste projeto, foi analisado e mostrado as postagens para determinar qual tipo de postagem e horário recebem a maioria dos comentários em média. Com base na análise, para maximizar a quantidade de comentários que um post recebe, é recomendado que a postagem seja categorizada como ask post e criada entre 15:00 e 16:00 (3:00 pm est - 4:00 pm est).\n",
    "\n",
    "No entanto, deve-se notar que o conjunto de dados analisado excluiu publicações sem comentários. Sendo assim, é mais correto dizer que, das postagens que receberam comentários, ask posts receberam mais comentários em média, e criadas entre 15:00 e 16:00 (3:00 pm est - 4:00 pm est) receberam a mensagem a maioria dos comentários.\n",
    "\n",
    "### Conclusion / End of Story\n",
    "In this project, we analyzed and shown the posts to determine which type of post and time receive the most comments on average. Based on the review, to maximize the amount of comments a post receives, it is recommended that the post be categorized as ask post and created between 15:00 and 16:00 (3:00 pm est - 4:00 pm est).\n",
    "\n",
    "However, it should be noted that the analyzed data set excluded publications without comment. So, it is more accurate to say that from posts that received comments, ask posts received more comments on average, and created between 15:00 and 16:00 (3:00 pm est - 4:00 pm est) received the message most of the comments."
   ]
  },
  {
   "cell_type": "code",
   "execution_count": null,
   "metadata": {},
   "outputs": [],
   "source": []
  }
 ],
 "metadata": {
  "kernelspec": {
   "display_name": "Python 3",
   "language": "python",
   "name": "python3"
  },
  "language_info": {
   "codemirror_mode": {
    "name": "ipython",
    "version": 3
   },
   "file_extension": ".py",
   "mimetype": "text/x-python",
   "name": "python",
   "nbconvert_exporter": "python",
   "pygments_lexer": "ipython3",
   "version": "3.7.3"
  }
 },
 "nbformat": 4,
 "nbformat_minor": 4
}
